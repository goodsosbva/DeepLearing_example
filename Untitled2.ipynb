{
 "cells": [
  {
   "cell_type": "code",
   "execution_count": 1,
   "metadata": {},
   "outputs": [
    {
     "name": "stdout",
     "output_type": "stream",
     "text": [
      "(6, 1) (6, 1)\n"
     ]
    }
   ],
   "source": [
    "###########################\n",
    "# 라이브러리 사용\n",
    "import tensorflow as tf\n",
    "import pandas as pd\n",
    " \n",
    "###########################\n",
    "# 데이터를 준비합니다.\n",
    "파일경로 = 'https://raw.githubusercontent.com/blackdew/tensorflow1/master/csv/lemonade.csv'\n",
    "레모네이드 = pd.read_csv(파일경로)\n",
    "레모네이드.head()\n",
    "# 종속변수, 독립변수\n",
    "독립 = 레모네이드[['온도']]\n",
    "종속 = 레모네이드[['판매량']]\n",
    "print(독립.shape, 종속.shape)"
   ]
  },
  {
   "cell_type": "code",
   "execution_count": 3,
   "metadata": {},
   "outputs": [],
   "source": [
    "###########################\n",
    "# 모델을 만듭니다.\n",
    "X = tf.keras.layers.Input(shape=[1])\n",
    "Y = tf.keras.layers.Dense(1)(X)\n",
    "model = tf.keras.models.Model(X, Y)\n",
    "model.compile(loss='mse')"
   ]
  },
  {
   "cell_type": "code",
   "execution_count": 4,
   "metadata": {},
   "outputs": [
    {
     "name": "stdout",
     "output_type": "stream",
     "text": [
      "Epoch 1/10\n",
      "1/1 [==============================] - 0s 0s/step - loss: 665.8893\n",
      "Epoch 2/10\n",
      "1/1 [==============================] - 0s 8ms/step - loss: 664.6838\n",
      "Epoch 3/10\n",
      "1/1 [==============================] - 0s 0s/step - loss: 663.4793\n",
      "Epoch 4/10\n",
      "1/1 [==============================] - 0s 0s/step - loss: 662.2759\n",
      "Epoch 5/10\n",
      "1/1 [==============================] - 0s 0s/step - loss: 661.0737\n",
      "Epoch 6/10\n",
      "1/1 [==============================] - 0s 0s/step - loss: 659.8725\n",
      "Epoch 7/10\n",
      "1/1 [==============================] - 0s 8ms/step - loss: 658.6724\n",
      "Epoch 8/10\n",
      "1/1 [==============================] - 0s 0s/step - loss: 657.4734\n",
      "Epoch 9/10\n",
      "1/1 [==============================] - 0s 0s/step - loss: 656.2756\n",
      "Epoch 10/10\n",
      "1/1 [==============================] - 0s 0s/step - loss: 655.0789\n",
      "[[17.453144]\n",
      " [18.275137]\n",
      " [19.097128]\n",
      " [19.91912 ]\n",
      " [20.741114]\n",
      " [21.563107]]\n",
      "[[13.343182]]\n"
     ]
    }
   ],
   "source": [
    "###########################\n",
    "# 모델을 학습시킵니다. \n",
    "model.fit(독립, 종속, epochs=1000, verbose=0)\n",
    "model.fit(독립, 종속, epochs=10)\n",
    " \n",
    "###########################\n",
    "# 모델을 이용합니다. \n",
    "print(model.predict(독립))\n",
    "print(model.predict([[15]]))"
   ]
  },
  {
   "cell_type": "code",
   "execution_count": null,
   "metadata": {},
   "outputs": [],
   "source": []
  }
 ],
 "metadata": {
  "kernelspec": {
   "display_name": "Python 3",
   "language": "python",
   "name": "python3"
  },
  "language_info": {
   "codemirror_mode": {
    "name": "ipython",
    "version": 3
   },
   "file_extension": ".py",
   "mimetype": "text/x-python",
   "name": "python",
   "nbconvert_exporter": "python",
   "pygments_lexer": "ipython3",
   "version": "3.8.5"
  }
 },
 "nbformat": 4,
 "nbformat_minor": 4
}
